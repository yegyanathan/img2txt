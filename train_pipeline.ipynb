{
 "cells": [
  {
   "cell_type": "code",
   "execution_count": null,
   "metadata": {},
   "outputs": [],
   "source": [
    "import os\n",
    "import warnings\n",
    "from pathlib import Path\n",
    "from dotenv import load_dotenv\n",
    "from pytorch_lightning import Trainer\n",
    "from pytorch_lightning.loggers import WandbLogger\n",
    "from modules import Img2TextModel, FlickerDataModule\n",
    "from pytorch_lightning.callbacks import ModelCheckpoint\n",
    "\n",
    "from jlclient import jarvisclient\n",
    "from jlclient.jarvisclient import *\n",
    "\n",
    "dotenv_path = Path('./project.env')\n",
    "load_dotenv(dotenv_path=dotenv_path)\n",
    "warnings.filterwarnings('ignore')\n",
    "\n",
    "MODEL_ROOT_DIR = os.getenv('MODEL_ROOT_DIR')\n",
    "ROOT_DIR = os.getenv('ROOT_DIR')\n",
    "ANNOTATIONS = os.getenv('ANNOTATIONS')\n",
    "\n",
    "jarvisclient.token = os.getenv('JARVISLAB_TOKEN')\n",
    "jarvisclient.user_id = os.getenv('JARVISLAB_USERID')"
   ]
  },
  {
   "cell_type": "code",
   "execution_count": null,
   "metadata": {},
   "outputs": [],
   "source": [
    "instance = User.get_instance(64424)\n",
    "instance.resume()\n",
    "print(f'instance status: {instance.status}')"
   ]
  },
  {
   "cell_type": "code",
   "execution_count": null,
   "metadata": {},
   "outputs": [],
   "source": [
    "!nvidia-smi"
   ]
  },
  {
   "cell_type": "code",
   "execution_count": null,
   "metadata": {},
   "outputs": [],
   "source": [
    "# logger\n",
    "logger = WandbLogger(project=\"img2text\")\n",
    "\n",
    "# callbacks\n",
    "model_type = 'img2text_tiny_256x256_16p'\n",
    "checkpoint_callback = ModelCheckpoint(\n",
    "    dirpath=MODEL_ROOT_DIR,\n",
    "    filename=f'{model_type}',\n",
    "    monitor='val_loss',\n",
    "    mode=\"min\")\n",
    "\n",
    "# data module\n",
    "datamodule = FlickerDataModule({\n",
    "    'root_dir': ROOT_DIR,\n",
    "    'annotations': ANNOTATIONS,\n",
    "    'batch_size': 32,\n",
    "})\n",
    "\n",
    "# model to be trained\n",
    "model = Img2TextModel({\n",
    "    'num_layers': 1,\n",
    "})\n",
    "\n",
    "# trainer object\n",
    "trainer = Trainer(\n",
    "    logger=logger,\n",
    "    accelerator='gpu',\n",
    "    callbacks=[checkpoint_callback],\n",
    "    max_epochs=50,\n",
    "    gradient_clip_val=0.5,\n",
    "    gradient_clip_algorithm='value',\n",
    "    devices=1,\n",
    ")\n",
    "\n",
    "# call fit()\n",
    "try:\n",
    "    trainer.fit(model, datamodule)\n",
    "except KeyboardInterrupt:\n",
    "    instance.pause()\n",
    "    print(f'instance status: {instance.status}')"
   ]
  }
 ],
 "metadata": {
  "kernelspec": {
   "display_name": "Python 3.9.13 ('nn')",
   "language": "python",
   "name": "python3"
  },
  "language_info": {
   "codemirror_mode": {
    "name": "ipython",
    "version": 3
   },
   "file_extension": ".py",
   "mimetype": "text/x-python",
   "name": "python",
   "nbconvert_exporter": "python",
   "pygments_lexer": "ipython3",
   "version": "3.9.13"
  },
  "orig_nbformat": 4,
  "vscode": {
   "interpreter": {
    "hash": "a366e18699bc79ff91da1bf2837c3ac558b8afdc70c692e41271c3d2a0e1bad0"
   }
  }
 },
 "nbformat": 4,
 "nbformat_minor": 2
}
